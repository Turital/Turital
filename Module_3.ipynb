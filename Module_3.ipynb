{
 "cells": [
  {
   "cell_type": "code",
   "execution_count": 12,
   "metadata": {},
   "outputs": [],
   "source": [
    "import math"
   ]
  },
  {
   "cell_type": "code",
   "execution_count": 1,
   "metadata": {},
   "outputs": [
    {
     "name": "stdout",
     "output_type": "stream",
     "text": [
      "185\n",
      "5\n"
     ]
    }
   ],
   "source": [
    "a = int(input())\n",
    "print(a%10)"
   ]
  },
  {
   "cell_type": "code",
   "execution_count": 6,
   "metadata": {},
   "outputs": [
    {
     "name": "stdout",
     "output_type": "stream",
     "text": [
      "100\n",
      "10\n",
      "19\n"
     ]
    }
   ],
   "source": [
    "V = int(input())\n",
    "t = int(input())\n",
    "S = 109\n",
    "if V>0:\n",
    "    print((V*t-S)%S)\n",
    "else: print((S+V*t)%S)"
   ]
  },
  {
   "cell_type": "code",
   "execution_count": 8,
   "metadata": {},
   "outputs": [
    {
     "name": "stdout",
     "output_type": "stream",
     "text": [
      "6.0001\n",
      "0.0001\n"
     ]
    }
   ],
   "source": [
    "x = float(input())\n",
    "print(round(x%1, 9))"
   ]
  },
  {
   "cell_type": "code",
   "execution_count": 10,
   "metadata": {},
   "outputs": [
    {
     "name": "stdout",
     "output_type": "stream",
     "text": [
      "0.1\n",
      "1.0\n"
     ]
    }
   ],
   "source": [
    "x = float(input())\n",
    "print(int((x*10)%10))"
   ]
  },
  {
   "cell_type": "code",
   "execution_count": 11,
   "metadata": {},
   "outputs": [
    {
     "name": "stdout",
     "output_type": "stream",
     "text": [
      "6\n",
      "14 15\n"
     ]
    }
   ],
   "source": [
    "a = int(input())\n",
    "t0 = 9*60\n",
    "t = t0 + 45*a + 5*(a//2) + 15*((a+1)//2-1)\n",
    "print(t//60, t%60)"
   ]
  },
  {
   "cell_type": "code",
   "execution_count": 13,
   "metadata": {},
   "outputs": [
    {
     "name": "stdout",
     "output_type": "stream",
     "text": [
      "400\n",
      "1700\n",
      "5\n"
     ]
    }
   ],
   "source": [
    "n = int(input())\n",
    "m = int(input())\n",
    "S = math.ceil(m/n)\n",
    "print(S)"
   ]
  },
  {
   "cell_type": "code",
   "execution_count": 14,
   "metadata": {},
   "outputs": [
    {
     "name": "stdout",
     "output_type": "stream",
     "text": [
      "31\n",
      "43\n",
      "4\n",
      "125 72\n"
     ]
    }
   ],
   "source": [
    "a = int(input())\n",
    "b = int(input())\n",
    "n = int(input())\n",
    "a = a*n\n",
    "b = b*n\n",
    "if b>=100:\n",
    "    a = a+(b//100)\n",
    "    b = b%100\n",
    "print(a, b)    "
   ]
  },
  {
   "cell_type": "code",
   "execution_count": 15,
   "metadata": {},
   "outputs": [
    {
     "name": "stdout",
     "output_type": "stream",
     "text": [
      "4\n",
      "33\n",
      "6\n",
      "7\n",
      "2\n",
      "5\n",
      "8939\n"
     ]
    }
   ],
   "source": [
    "h1 = int(input())\n",
    "m1 = int(input())\n",
    "s1 = int(input())\n",
    "h2 = int(input())\n",
    "m2 = int(input())\n",
    "s2 = int(input())\n",
    "time = (h2*3600 + m2*60 + s2)-(h1*3600 + m1*60 + s1)\n",
    "print(time)"
   ]
  },
  {
   "cell_type": "code",
   "execution_count": 16,
   "metadata": {},
   "outputs": [
    {
     "name": "stdout",
     "output_type": "stream",
     "text": [
      "10\n",
      "1\n",
      "0\n",
      "10\n"
     ]
    }
   ],
   "source": [
    "h = int(input())\n",
    "a = int(input())\n",
    "b = int(input())\n",
    "n = (h-b)/(a-b)\n",
    "print(math.ceil(n))"
   ]
  },
  {
   "cell_type": "code",
   "execution_count": 17,
   "metadata": {},
   "outputs": [
    {
     "name": "stdout",
     "output_type": "stream",
     "text": [
      "1410380124856\n",
      "5\n"
     ]
    }
   ],
   "source": [
    "a = int(input())\n",
    "print((a%100)//10)"
   ]
  },
  {
   "cell_type": "code",
   "execution_count": 19,
   "metadata": {},
   "outputs": [
    {
     "name": "stdout",
     "output_type": "stream",
     "text": [
      "345\n",
      "12\n"
     ]
    }
   ],
   "source": [
    "a = int(input())\n",
    "print(a//100+(a%100)//10+a%10)"
   ]
  },
  {
   "cell_type": "code",
   "execution_count": 20,
   "metadata": {},
   "outputs": [
    {
     "name": "stdout",
     "output_type": "stream",
     "text": [
      "3\n",
      "4\n",
      "5.0\n"
     ]
    }
   ],
   "source": [
    "a = int(input())\n",
    "b = int(input())\n",
    "print(math.sqrt(a**2+b**2))"
   ]
  },
  {
   "cell_type": "code",
   "execution_count": 21,
   "metadata": {},
   "outputs": [
    {
     "name": "stdout",
     "output_type": "stream",
     "text": [
      "3\n",
      "45\n",
      "20\n",
      "112.66666666666667\n"
     ]
    }
   ],
   "source": [
    "h = int(input())\n",
    "m = int(input())\n",
    "s = int(input())\n",
    "print(h*(360/12) + m*(360/12/60) + s*(360/12/60/60))"
   ]
  },
  {
   "cell_type": "code",
   "execution_count": 34,
   "metadata": {},
   "outputs": [
    {
     "name": "stdout",
     "output_type": "stream",
     "text": [
      "190\n",
      "120.0\n"
     ]
    }
   ],
   "source": [
    "alpha = float(input())\n",
    "h = alpha%30\n",
    "m = h*12\n",
    "print(m)"
   ]
  },
  {
   "cell_type": "code",
   "execution_count": 50,
   "metadata": {},
   "outputs": [
    {
     "name": "stdout",
     "output_type": "stream",
     "text": [
      "190\n",
      "6 20 0\n"
     ]
    }
   ],
   "source": [
    "alpha = float(input())\n",
    "h = alpha//(360/12)\n",
    "m = alpha//(360/12/60)%60\n",
    "s = alpha//(360/60/60/12)%60\n",
    "print(int(h), int(m), int(s))"
   ]
  },
  {
   "cell_type": "code",
   "execution_count": 51,
   "metadata": {},
   "outputs": [
    {
     "name": "stdout",
     "output_type": "stream",
     "text": [
      "23\n",
      "234\n",
      "32\n",
      "288 21\n"
     ]
    }
   ],
   "source": [
    "P = int(input())\n",
    "X = int(input())\n",
    "Y = int(input())\n",
    "a = X*100+Y\n",
    "a = a + a*(P/100)\n",
    "X = a//100\n",
    "Y = a%100\n",
    "print(int(X), int(Y))"
   ]
  }
 ],
 "metadata": {
  "kernelspec": {
   "display_name": "Python 3",
   "language": "python",
   "name": "python3"
  },
  "language_info": {
   "codemirror_mode": {
    "name": "ipython",
    "version": 3
   },
   "file_extension": ".py",
   "mimetype": "text/x-python",
   "name": "python",
   "nbconvert_exporter": "python",
   "pygments_lexer": "ipython3",
   "version": "3.7.4"
  }
 },
 "nbformat": 4,
 "nbformat_minor": 2
}
