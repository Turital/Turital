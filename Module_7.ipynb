{
 "cells": [
  {
   "cell_type": "code",
   "execution_count": 4,
   "metadata": {},
   "outputs": [
    {
     "name": "stdout",
     "output_type": "stream",
     "text": [
      "1 2 3 4 5\n",
      "135"
     ]
    }
   ],
   "source": [
    "a = input().split()\n",
    "for i in range(0, len(a), 2):\n",
    "    print(a[i], end=\" \")"
   ]
  },
  {
   "cell_type": "code",
   "execution_count": 7,
   "metadata": {
    "scrolled": true
   },
   "outputs": [
    {
     "name": "stdout",
     "output_type": "stream",
     "text": [
      "1 2 3 4 5\n",
      "2 4 "
     ]
    }
   ],
   "source": [
    "a = input().split()\n",
    "for elem in a:\n",
    "    if int(elem)%2 == 0:\n",
    "        print(elem, end=\" \")"
   ]
  },
  {
   "cell_type": "code",
   "execution_count": 1,
   "metadata": {},
   "outputs": [
    {
     "name": "stdout",
     "output_type": "stream",
     "text": [
      "1 2 3 4 5\n",
      "2 3 4 5 "
     ]
    }
   ],
   "source": [
    "a = input().split()\n",
    "for i in range(1, len(a)):\n",
    "    if a[i-1]<a[i]:\n",
    "        print(a[i], end=\" \")"
   ]
  },
  {
   "cell_type": "code",
   "execution_count": 1,
   "metadata": {},
   "outputs": [
    {
     "name": "stdout",
     "output_type": "stream",
     "text": [
      "1 2 3 -8 -3\n",
      "1 2 "
     ]
    }
   ],
   "source": [
    "a = input().split()\n",
    "for i in range(1, len(a)):\n",
    "    if (int(a[i-1])<0 and int(a[i])<0) or (int(a[i-1])>0 and int(a[i])>0):\n",
    "        print(a[i-1], a[i], end=\" \")\n",
    "        break"
   ]
  },
  {
   "cell_type": "code",
   "execution_count": 2,
   "metadata": {},
   "outputs": [
    {
     "name": "stdout",
     "output_type": "stream",
     "text": [
      "1 5 1 5 1\n",
      "2\n"
     ]
    }
   ],
   "source": [
    "a = input().split()\n",
    "sum = 0\n",
    "for i in range(len(a)):\n",
    "    if a[i]>a[0] and a[i]>a[-1]:\n",
    "       sum += 1\n",
    "print(sum)"
   ]
  },
  {
   "cell_type": "code",
   "execution_count": 31,
   "metadata": {},
   "outputs": [
    {
     "name": "stdout",
     "output_type": "stream",
     "text": [
      "-100 -1\n",
      "-1 1\n"
     ]
    }
   ],
   "source": [
    "index = 0\n",
    "a = [int(i) for i in input().split()]\n",
    "for i in range(1, len(a)):\n",
    "    if a[i] > a[index]:\n",
    "        index = i\n",
    "print(a[index], index)"
   ]
  },
  {
   "cell_type": "code",
   "execution_count": 1,
   "metadata": {},
   "outputs": [
    {
     "name": "stdout",
     "output_type": "stream",
     "text": [
      "123 122 118 110 56\n",
      "78\n",
      "5\n"
     ]
    }
   ],
   "source": [
    "a = [int(i) for i in input().split()]\n",
    "pos = 0\n",
    "x = int(input())\n",
    "for i in a:\n",
    "    if i>=x:\n",
    "        pos += 1\n",
    "print(pos+1)     "
   ]
  },
  {
   "cell_type": "code",
   "execution_count": 10,
   "metadata": {},
   "outputs": [
    {
     "name": "stdout",
     "output_type": "stream",
     "text": [
      "1 2 2 3 3\n",
      "3\n"
     ]
    }
   ],
   "source": [
    "elem = 1\n",
    "a = input().split()\n",
    "for i in range(len(a)-1):\n",
    "    if a[i] != a[i+1]:\n",
    "        elem += 1\n",
    "print(elem)        "
   ]
  },
  {
   "cell_type": "code",
   "execution_count": 23,
   "metadata": {},
   "outputs": [
    {
     "name": "stdout",
     "output_type": "stream",
     "text": [
      "1 2 3 4 5\n",
      "2 1 4 3 5\n"
     ]
    }
   ],
   "source": [
    "a = [int(i) for i in input().split()]\n",
    "for i in range(1, len(a), 2):\n",
    "    a[i-1], a[i] = a[i], a[i-1]\n",
    "print(' '.join([str(i) for i in a]))"
   ]
  },
  {
   "cell_type": "code",
   "execution_count": 26,
   "metadata": {},
   "outputs": [
    {
     "name": "stdout",
     "output_type": "stream",
     "text": [
      "1 2 3 4 5\n",
      "5 2 3 4 1\n"
     ]
    }
   ],
   "source": [
    "index = 0\n",
    "index_ = 0\n",
    "a = [int(i) for i in input().split()]\n",
    "for i in range(1, len(a)):\n",
    "    if a[i] > a[index]:\n",
    "        index = i\n",
    "    if a[i] < a[index_]:\n",
    "        index_ = i\n",
    "a[index], a[index_] = a[index_], a[index]\n",
    "print(' '.join([str(i) for i in a]))"
   ]
  },
  {
   "cell_type": "code",
   "execution_count": 28,
   "metadata": {},
   "outputs": [
    {
     "name": "stdout",
     "output_type": "stream",
     "text": [
      "1 2 3 4 5\n",
      "2\n",
      "[1, 2, 4, 3, 5]\n"
     ]
    }
   ],
   "source": [
    "a = [int(i) for i in input().split()]\n",
    "k = int(input())\n",
    "for i in range(len(a)):\n",
    "    a[k], a[k+1] = a[k+1], a[k]\n",
    "print(a)"
   ]
  },
  {
   "cell_type": "code",
   "execution_count": 5,
   "metadata": {},
   "outputs": [
    {
     "name": "stdout",
     "output_type": "stream",
     "text": [
      "1 2 3 4 5\n",
      "2\n",
      "1 2 4 5\n"
     ]
    }
   ],
   "source": [
    "a = [int(i) for i in input().split()]\n",
    "k = int(input())\n",
    "for i in range(k + 1, len(a)):\n",
    "    a[i-1] = a[i]\n",
    "a.pop()\n",
    "print(' '.join([str(i) for i in a]))"
   ]
  },
  {
   "cell_type": "code",
   "execution_count": 18,
   "metadata": {},
   "outputs": [
    {
     "name": "stdout",
     "output_type": "stream",
     "text": [
      "1 2 3 4 5 6 7\n",
      "2 0\n",
      "1 2 0 3 4 5 6 7\n"
     ]
    }
   ],
   "source": [
    "a = [int(i) for i in input().split()]\n",
    "k, c = [int(i) for i in input().split()]\n",
    "a.append(0)\n",
    "for i in range(len(a)-1, k, -1):\n",
    "    a[i] = a[i-1]\n",
    "a[k] = c\n",
    "print(' '.join([str(i) for i in a]))"
   ]
  },
  {
   "cell_type": "code",
   "execution_count": 22,
   "metadata": {},
   "outputs": [
    {
     "name": "stdout",
     "output_type": "stream",
     "text": [
      "1 2 3 2 3\n",
      "2\n"
     ]
    }
   ],
   "source": [
    "sum = 0\n",
    "a = ([int(i) for i in input().split()])\n",
    "for i in range(len(a)):\n",
    "    for j in range(i+1, len(a)):\n",
    "        if a[i] == a[j]:\n",
    "            sum += 1\n",
    "print(sum)"
   ]
  },
  {
   "cell_type": "code",
   "execution_count": 37,
   "metadata": {},
   "outputs": [
    {
     "name": "stdout",
     "output_type": "stream",
     "text": [
      "1 2 3 3 3\n",
      "1 2 "
     ]
    }
   ],
   "source": [
    "a = [int(s) for s in input().split()]\n",
    "for i in range(len(a)):\n",
    "    for j in range(len(a)):\n",
    "        if i != j and a[i] == a[j]:\n",
    "            break\n",
    "    else: \n",
    "            print(a[i], end=\" \")"
   ]
  },
  {
   "cell_type": "code",
   "execution_count": 1,
   "metadata": {},
   "outputs": [
    {
     "name": "stdout",
     "output_type": "stream",
     "text": [
      "10 3\n",
      "1 3\n",
      "4 6\n",
      "7 10\n",
      "..........\n"
     ]
    }
   ],
   "source": [
    "n, k = [int(i) for i in input().split()]\n",
    "bahn = ['I'] * n\n",
    "for i in range(k):\n",
    "    left, right = [int(i) for i in input().split()]\n",
    "    for j in range(left - 1, right):\n",
    "        bahn[j] = '.'\n",
    "print(''.join(bahn))"
   ]
  },
  {
   "cell_type": "code",
   "execution_count": 9,
   "metadata": {},
   "outputs": [
    {
     "name": "stdout",
     "output_type": "stream",
     "text": [
      "1 1\n",
      "2 2\n",
      "3 3\n",
      "4 4\n",
      "5 5\n",
      "6 6\n",
      "7 7\n",
      "8 8\n",
      "YES\n"
     ]
    }
   ],
   "source": [
    "n = 8\n",
    "x = []\n",
    "y = []\n",
    "for i in range(n):\n",
    "    nex, ney = [int(i) for i in input().split()]\n",
    "    x.append(nex)\n",
    "    y.append(ney)\n",
    "bool = True\n",
    "for i in range(n):\n",
    "    for j in range(i+1, n):\n",
    "        if (x[i] == x[j] or y[i] == y[j]) or (abs(x[i]-x[j]) == abs(y[i]-y[j])):\n",
    "            bool = False\n",
    "if bool:\n",
    "    print(\"NO\")\n",
    "else:print(\"YES\")"
   ]
  }
 ],
 "metadata": {
  "kernelspec": {
   "display_name": "Python 3",
   "language": "python",
   "name": "python3"
  },
  "language_info": {
   "codemirror_mode": {
    "name": "ipython",
    "version": 3
   },
   "file_extension": ".py",
   "mimetype": "text/x-python",
   "name": "python",
   "nbconvert_exporter": "python",
   "pygments_lexer": "ipython3",
   "version": "3.7.4"
  }
 },
 "nbformat": 4,
 "nbformat_minor": 2
}
