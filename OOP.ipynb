{
 "cells": [
  {
   "cell_type": "code",
   "execution_count": 25,
   "metadata": {},
   "outputs": [],
   "source": [
    "import math"
   ]
  },
  {
   "cell_type": "code",
   "execution_count": 26,
   "metadata": {},
   "outputs": [
    {
     "name": "stdout",
     "output_type": "stream",
     "text": [
      "Вызвали метод __init__\n",
      "12 6.0\n"
     ]
    }
   ],
   "source": [
    "class Triangle:\n",
    "    def __init__(self, a, b, c):\n",
    "        self.a = a\n",
    "        self.b = b\n",
    "        self.c = c\n",
    "        \n",
    "        print('Вызвали метод __init__')\n",
    "    \n",
    "    def calc_perimetr(self):\n",
    "        P = self.a + self.b + self.c\n",
    "        return P\n",
    "    def calc_square(self):\n",
    "        p = self.calc_perimetr() / 2\n",
    "        s = (p*(p-self.a)*(p-self.b)*(p-self.c)) ** 0.5\n",
    "        return s\n",
    "tr = Triangle(3, 4, 5)\n",
    "print(tr.calc_perimetr(), tr.calc_square())"
   ]
  },
  {
   "cell_type": "code",
   "execution_count": 36,
   "metadata": {},
   "outputs": [
    {
     "name": "stdout",
     "output_type": "stream",
     "text": [
      "Вызвали метод __init__\n",
      "2.23606797749979 (48.21412761217435, 65.89293619391282, 65.89293619391282)\n"
     ]
    }
   ],
   "source": [
    "class Revn(Triangle):\n",
    "    def vis(self):\n",
    "        if self.a==self.b:\n",
    "            osn=self.c\n",
    "            h = (self.a**2 - (osn/2)**2)**0.5\n",
    "        elif self.a == self.c:\n",
    "            osn=self.b\n",
    "            h = (self.a**2 - (osn/2)**2)**0.5\n",
    "        elif self.b==self.c:\n",
    "            osn=a\n",
    "            h = (self.b**2 - (osn/2)**2)**0.5\n",
    "        else: print('неравнобедренный')\n",
    "        return h\n",
    "    def ugol(self):\n",
    "        A = (self.b**2 + self.c**2 - self.a**2)/(2*self.b*self.c)\n",
    "        A = math.acos(A)/3.14*180\n",
    "        B = (180-A)/2\n",
    "        C = B\n",
    "        return A, B, C\n",
    "rv = Revn(3, 3, 4)\n",
    "print(rv.vis(), rv.ugol())"
   ]
  },
  {
   "cell_type": "code",
   "execution_count": null,
   "metadata": {},
   "outputs": [],
   "source": []
  },
  {
   "cell_type": "code",
   "execution_count": null,
   "metadata": {},
   "outputs": [],
   "source": []
  }
 ],
 "metadata": {
  "kernelspec": {
   "display_name": "Python 3",
   "language": "python",
   "name": "python3"
  },
  "language_info": {
   "codemirror_mode": {
    "name": "ipython",
    "version": 3
   },
   "file_extension": ".py",
   "mimetype": "text/x-python",
   "name": "python",
   "nbconvert_exporter": "python",
   "pygments_lexer": "ipython3",
   "version": "3.7.5"
  }
 },
 "nbformat": 4,
 "nbformat_minor": 2
}
