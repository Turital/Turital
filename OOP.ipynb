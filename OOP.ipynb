{
 "cells": [
  {
   "cell_type": "code",
   "execution_count": 17,
   "metadata": {},
   "outputs": [
    {
     "name": "stdout",
     "output_type": "stream",
     "text": [
      "Вызвали метод __init__\n",
      "12 6.0\n"
     ]
    }
   ],
   "source": [
    "class Triangle:\n",
    "    def __init__(self, a, b, c):\n",
    "        self.a = a\n",
    "        self.b = b\n",
    "        self.c = c\n",
    "        \n",
    "        print('Вызвали метод __init__')\n",
    "    \n",
    "    def calc_perimetr(self):\n",
    "        P = self.a + self.b + self.c\n",
    "        return P\n",
    "    def calc_square(self):\n",
    "        p = self.calc_perimetr() / 2\n",
    "        s = (p*(p-self.a)*(p-self.b)*(p-self.c)) ** 0.5\n",
    "        return s\n",
    "tr = Triangle(3, 4, 5)\n",
    "print(tr.calc_perimetr(), tr.calc_square())"
   ]
  },
  {
   "cell_type": "code",
   "execution_count": null,
   "metadata": {},
   "outputs": [],
   "source": []
  }
 ],
 "metadata": {
  "kernelspec": {
   "display_name": "Python 3",
   "language": "python",
   "name": "python3"
  },
  "language_info": {
   "codemirror_mode": {
    "name": "ipython",
    "version": 3
   },
   "file_extension": ".py",
   "mimetype": "text/x-python",
   "name": "python",
   "nbconvert_exporter": "python",
   "pygments_lexer": "ipython3",
   "version": "3.7.4"
  }
 },
 "nbformat": 4,
 "nbformat_minor": 2
}
