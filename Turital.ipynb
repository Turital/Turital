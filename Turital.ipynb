{
 "cells": [
  {
   "cell_type": "code",
   "execution_count": 1,
   "metadata": {},
   "outputs": [
    {
     "name": "stdout",
     "output_type": "stream",
     "text": [
      "Hello world\n"
     ]
    }
   ],
   "source": [
    "print('Hello world')"
   ]
  },
  {
   "cell_type": "code",
   "execution_count": 5,
   "metadata": {},
   "outputs": [
    {
     "name": "stdout",
     "output_type": "stream",
     "text": [
      "5\n",
      "6.249999999999998\n"
     ]
    }
   ],
   "source": [
    "import math as m\n",
    "\n",
    "r_1 = int(input())\n",
    "r_2 = m.sqrt((r_1**2)*2)/2\n",
    "r_3 = r_1/2\n",
    "Sq_1 = ((r_3**2) * m.pi)/2\n",
    "Sq_2 = (((r_2**2) * m.pi)/2 - (r_1**2 /2)) /2\n",
    "S = Sq_1 - Sq_2\n",
    "print(S)"
   ]
  },
  {
   "cell_type": "code",
   "execution_count": 1,
   "metadata": {},
   "outputs": [],
   "source": [
    "import numpy as np"
   ]
  },
  {
   "cell_type": "code",
   "execution_count": 7,
   "metadata": {},
   "outputs": [
    {
     "name": "stdout",
     "output_type": "stream",
     "text": [
      "[[  3  94]\n",
      " [ 30 114]]\n"
     ]
    }
   ],
   "source": [
    "a = np.array([[1,2,3,4,6], [5,4,3,6,7,]])\n",
    "b = np.array([[3,2], [5,4], [8,12], [8,-3], [-11,10]])\n",
    "result = np.dot(a,b)\n",
    "print(result)"
   ]
  }
 ],
 "metadata": {
  "kernelspec": {
   "display_name": "Python 3",
   "language": "python",
   "name": "python3"
  },
  "language_info": {
   "codemirror_mode": {
    "name": "ipython",
    "version": 3
   },
   "file_extension": ".py",
   "mimetype": "text/x-python",
   "name": "python",
   "nbconvert_exporter": "python",
   "pygments_lexer": "ipython3",
   "version": "3.7.4"
  }
 },
 "nbformat": 4,
 "nbformat_minor": 2
}
